{
 "cells": [
  {
   "cell_type": "code",
   "execution_count": 1,
   "metadata": {},
   "outputs": [
    {
     "name": "stderr",
     "output_type": "stream",
     "text": [
      "Using TensorFlow backend.\n"
     ]
    }
   ],
   "source": [
    "from keras.models import Sequential\n",
    "from keras.layers import Convolution2D\n",
    "from keras.layers import MaxPooling2D\n",
    "from keras.layers import Flatten\n",
    "from keras.layers import Dense"
   ]
  },
  {
   "cell_type": "code",
   "execution_count": 2,
   "metadata": {},
   "outputs": [
    {
     "name": "stderr",
     "output_type": "stream",
     "text": [
      "WARNING: Logging before flag parsing goes to stderr.\n",
      "W1116 20:27:51.239904 16876 deprecation_wrapper.py:119] From C:\\Anaconda3\\lib\\site-packages\\keras\\backend\\tensorflow_backend.py:74: The name tf.get_default_graph is deprecated. Please use tf.compat.v1.get_default_graph instead.\n",
      "\n"
     ]
    }
   ],
   "source": [
    "#initializing the CNN\n",
    "classifier = Sequential()"
   ]
  },
  {
   "cell_type": "code",
   "execution_count": 3,
   "metadata": {},
   "outputs": [
    {
     "name": "stderr",
     "output_type": "stream",
     "text": [
      "C:\\Anaconda3\\lib\\site-packages\\ipykernel_launcher.py:2: UserWarning: Update your `Conv2D` call to the Keras 2 API: `Conv2D(32, (3, 3), input_shape=(32, 32, 3..., activation=\"relu\")`\n",
      "  \n",
      "W1116 20:27:51.317193 16876 deprecation_wrapper.py:119] From C:\\Anaconda3\\lib\\site-packages\\keras\\backend\\tensorflow_backend.py:517: The name tf.placeholder is deprecated. Please use tf.compat.v1.placeholder instead.\n",
      "\n",
      "W1116 20:27:51.334152 16876 deprecation_wrapper.py:119] From C:\\Anaconda3\\lib\\site-packages\\keras\\backend\\tensorflow_backend.py:4138: The name tf.random_uniform is deprecated. Please use tf.random.uniform instead.\n",
      "\n"
     ]
    }
   ],
   "source": [
    "#Adding the Convolution Layer\n",
    "classifier.add(Convolution2D(32, 3, 3, input_shape = (32, 32, 3), activation = 'relu'))"
   ]
  },
  {
   "cell_type": "code",
   "execution_count": 4,
   "metadata": {},
   "outputs": [
    {
     "name": "stderr",
     "output_type": "stream",
     "text": [
      "W1116 20:27:51.394807 16876 deprecation_wrapper.py:119] From C:\\Anaconda3\\lib\\site-packages\\keras\\backend\\tensorflow_backend.py:3976: The name tf.nn.max_pool is deprecated. Please use tf.nn.max_pool2d instead.\n",
      "\n"
     ]
    }
   ],
   "source": [
    "#Adding the Pooling Layer\n",
    "classifier.add(MaxPooling2D(pool_size=(2, 2)))"
   ]
  },
  {
   "cell_type": "code",
   "execution_count": 5,
   "metadata": {},
   "outputs": [],
   "source": [
    "#Flattening the layer\n",
    "classifier.add(Flatten())"
   ]
  },
  {
   "cell_type": "code",
   "execution_count": 6,
   "metadata": {},
   "outputs": [
    {
     "name": "stderr",
     "output_type": "stream",
     "text": [
      "C:\\Anaconda3\\lib\\site-packages\\ipykernel_launcher.py:2: UserWarning: Update your `Dense` call to the Keras 2 API: `Dense(activation=\"relu\", units=128)`\n",
      "  \n",
      "C:\\Anaconda3\\lib\\site-packages\\ipykernel_launcher.py:3: UserWarning: Update your `Dense` call to the Keras 2 API: `Dense(activation=\"sigmoid\", units=1)`\n",
      "  This is separate from the ipykernel package so we can avoid doing imports until\n"
     ]
    }
   ],
   "source": [
    "# Full Connection\n",
    "classifier.add(Dense(output_dim = 128, activation = 'relu'))\n",
    "classifier.add(Dense(output_dim = 1, activation = 'sigmoid'))"
   ]
  },
  {
   "cell_type": "code",
   "execution_count": 7,
   "metadata": {},
   "outputs": [
    {
     "name": "stderr",
     "output_type": "stream",
     "text": [
      "W1116 20:27:53.606780 16876 deprecation_wrapper.py:119] From C:\\Anaconda3\\lib\\site-packages\\keras\\optimizers.py:790: The name tf.train.Optimizer is deprecated. Please use tf.compat.v1.train.Optimizer instead.\n",
      "\n",
      "W1116 20:27:53.649665 16876 deprecation_wrapper.py:119] From C:\\Anaconda3\\lib\\site-packages\\keras\\backend\\tensorflow_backend.py:3376: The name tf.log is deprecated. Please use tf.math.log instead.\n",
      "\n",
      "W1116 20:27:53.663625 16876 deprecation.py:323] From C:\\Anaconda3\\lib\\site-packages\\tensorflow\\python\\ops\\nn_impl.py:180: add_dispatch_support.<locals>.wrapper (from tensorflow.python.ops.array_ops) is deprecated and will be removed in a future version.\n",
      "Instructions for updating:\n",
      "Use tf.where in 2.0, which has the same broadcast rule as np.where\n"
     ]
    }
   ],
   "source": [
    "#Compiling the CNN\n",
    "classifier.compile(optimizer = 'adam', loss = 'binary_crossentropy', metrics = ['accuracy'])"
   ]
  },
  {
   "cell_type": "code",
   "execution_count": null,
   "metadata": {},
   "outputs": [
    {
     "name": "stdout",
     "output_type": "stream",
     "text": [
      "Found 440 images belonging to 2 classes.\n",
      "Found 1000 images belonging to 2 classes.\n"
     ]
    },
    {
     "name": "stderr",
     "output_type": "stream",
     "text": [
      "W1116 20:27:58.568841 16876 deprecation_wrapper.py:119] From C:\\Anaconda3\\lib\\site-packages\\keras\\backend\\tensorflow_backend.py:986: The name tf.assign_add is deprecated. Please use tf.compat.v1.assign_add instead.\n",
      "\n"
     ]
    },
    {
     "name": "stdout",
     "output_type": "stream",
     "text": [
      "Epoch 1/25\n",
      "1000/1000 [==============================] - 5373s 5s/step - loss: 0.1042 - acc: 0.9610 - val_loss: 3.0867 - val_acc: 0.4321\n",
      "Epoch 2/25\n",
      "1000/1000 [==============================] - 5419s 5s/step - loss: 0.0202 - acc: 0.9936 - val_loss: 3.6942 - val_acc: 0.4366\n",
      "Epoch 3/25\n",
      "1000/1000 [==============================] - 4973s 5s/step - loss: 0.0125 - acc: 0.9960 - val_loss: 3.7350 - val_acc: 0.4290\n",
      "Epoch 4/25\n",
      "1000/1000 [==============================] - 4962s 5s/step - loss: 0.0093 - acc: 0.9968 - val_loss: 4.7121 - val_acc: 0.4925\n",
      "Epoch 5/25\n",
      "1000/1000 [==============================] - 4980s 5s/step - loss: 0.0042 - acc: 0.9987 - val_loss: 4.7239 - val_acc: 0.4391\n",
      "Epoch 6/25\n",
      "1000/1000 [==============================] - 4985s 5s/step - loss: 0.0018 - acc: 0.9992 - val_loss: 5.3330 - val_acc: 0.4587\n",
      "Epoch 7/25\n",
      "1000/1000 [==============================] - 4966s 5s/step - loss: 0.0125 - acc: 0.9966 - val_loss: 4.8187 - val_acc: 0.4655\n",
      "Epoch 8/25\n",
      "1000/1000 [==============================] - 5103s 5s/step - loss: 0.0021 - acc: 0.9996 - val_loss: 5.4176 - val_acc: 0.4499\n",
      "Epoch 9/25\n",
      "1000/1000 [==============================] - 4942s 5s/step - loss: 0.0059 - acc: 0.9975 - val_loss: 4.7462 - val_acc: 0.5044\n",
      "Epoch 10/25\n",
      "1000/1000 [==============================] - 5033s 5s/step - loss: 0.0070 - acc: 0.9981 - val_loss: 5.4661 - val_acc: 0.4393\n",
      "Epoch 11/25\n",
      "1000/1000 [==============================] - 4963s 5s/step - loss: 0.0022 - acc: 0.9992 - val_loss: 5.9369 - val_acc: 0.4302\n",
      "Epoch 12/25\n",
      "1000/1000 [==============================] - 5145s 5s/step - loss: 2.6449e-04 - acc: 1.0000 - val_loss: 6.1006 - val_acc: 0.4479\n",
      "Epoch 13/25\n",
      "1000/1000 [==============================] - 5190s 5s/step - loss: 0.0138 - acc: 0.9973 - val_loss: 5.9372 - val_acc: 0.4264\n",
      "Epoch 14/25\n",
      "1000/1000 [==============================] - 5024s 5s/step - loss: 0.0016 - acc: 0.9994 - val_loss: 5.8828 - val_acc: 0.4491\n",
      "Epoch 15/25\n",
      "1000/1000 [==============================] - 5010s 5s/step - loss: 1.0242e-04 - acc: 1.0000 - val_loss: 6.1542 - val_acc: 0.4456\n",
      "Epoch 16/25\n",
      " 999/1000 [============================>.] - ETA: 4s - loss: 6.6271e-04 - acc: 0.9998"
     ]
    }
   ],
   "source": [
    "#Fitting our CNN to the image dataset\n",
    "from keras.preprocessing.image import ImageDataGenerator\n",
    "train_datagen = ImageDataGenerator(\n",
    "                    rescale=1./255,\n",
    "                    shear_range=0.2,\n",
    "                    zoom_range=0.2,\n",
    "                    horizontal_flip=True)\n",
    "\n",
    "test_datagen = ImageDataGenerator(rescale=1./255)\n",
    "training_set = train_datagen.flow_from_directory(\"D:/CANCER/dataset/test_set\",target_size=(32, 32),batch_size=10,class_mode=\"binary\")\n",
    "\n",
    "test_set = test_datagen.flow_from_directory(\"D:/CANCER/dataset/training_set\",target_size=(32, 32), batch_size=32,class_mode=\"binary\")\n",
    "classifier.fit_generator(training_set,\n",
    "                         steps_per_epoch=1000,\n",
    "                         epochs=25,\n",
    "                         validation_data= test_set, \n",
    "                         validation_steps=440)"
   ]
  },
  {
   "cell_type": "code",
   "execution_count": null,
   "metadata": {},
   "outputs": [],
   "source": [
    "#accuracy roughly ~75%, i couldn't finish the whole training process it was taking way too long and laptop was running hot so had to stop."
   ]
  },
  {
   "cell_type": "code",
   "execution_count": null,
   "metadata": {},
   "outputs": [],
   "source": []
  },
  {
   "cell_type": "code",
   "execution_count": null,
   "metadata": {},
   "outputs": [],
   "source": []
  }
 ],
 "metadata": {
  "kernelspec": {
   "display_name": "Python 3",
   "language": "python",
   "name": "python3"
  },
  "language_info": {
   "codemirror_mode": {
    "name": "ipython",
    "version": 3
   },
   "file_extension": ".py",
   "mimetype": "text/x-python",
   "name": "python",
   "nbconvert_exporter": "python",
   "pygments_lexer": "ipython3",
   "version": "3.7.3"
  }
 },
 "nbformat": 4,
 "nbformat_minor": 2
}
